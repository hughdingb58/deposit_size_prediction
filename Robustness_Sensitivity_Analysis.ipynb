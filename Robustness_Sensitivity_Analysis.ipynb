{
 "cells": [
  {
   "cell_type": "code",
   "execution_count": null,
   "metadata": {},
   "outputs": [],
   "source": [
    "%run \"Supervised_Learning.ipynb\""
   ]
  },
  {
   "cell_type": "markdown",
   "metadata": {},
   "source": [
    "Prepared Data for Robustness Checks from random sample of banks + the 3 pre-designated banks"
   ]
  },
  {
   "cell_type": "code",
   "execution_count": null,
   "metadata": {},
   "outputs": [],
   "source": [
    "# Set display options to show all columns\n",
    "pd.set_option('display.max_columns', None)\n",
    "\n",
    "# Path to your Feather file\n",
    "file_path = 'df_samples.feather'\n",
    "\n",
    "# Read the Feather file into a DataFrame\n",
    "df_samples = pd.DataFrame(feather.read_feather(file_path))\n",
    "\n",
    "df_samples['category'] = 'intermediate'\n",
    "\n",
    "df_samples\n",
    "\n"
   ]
  },
  {
   "cell_type": "markdown",
   "metadata": {},
   "source": [
    "Though there was very little difference between the models, ultimately Random Forest Regression was found to be the best model. Using previously preprocessed data from before we will test the robustness of the model against the banks we previously set aside. \n",
    "\n",
    "Run each specific bank through the model."
   ]
  },
  {
   "cell_type": "code",
   "execution_count": null,
   "metadata": {},
   "outputs": [],
   "source": [
    "df_samples = df_samples.loc[:, ['name'\n",
    "                        , 'category'\n",
    "                        , 'date'\n",
    "                        , 'year'\n",
    "                        , 'quarter'\n",
    "                        , 'total_deposits'\n",
    "                        , 'cpi'\n",
    "                        , 'fed_fund_rate'\n",
    "                        , 'housing_starts'\n",
    "                        , 'personal_savings_rate'\n",
    "                        , 'umich_consumer_sentiment_index']]\n",
    "df_samples"
   ]
  },
  {
   "cell_type": "code",
   "execution_count": null,
   "metadata": {},
   "outputs": [],
   "source": [
    "lagged_df_samples = df_samples.groupby('name').apply(lambda x: x.assign(total_deposits_lag1=x['total_deposits'].shift(1)))\n",
    "\n",
    "# Drop NaN values\n",
    "lagged_df_samples = lagged_df_samples.dropna().reset_index(drop=True)\n",
    "\n",
    "# Display the lagged DataFrame\n",
    "lagged_df_samples "
   ]
  },
  {
   "cell_type": "code",
   "execution_count": null,
   "metadata": {},
   "outputs": [],
   "source": [
    "selected_features=['cpi','fed_fund_rate','housing_starts','personal_savings_rate','umich_consumer_sentiment_index']"
   ]
  },
  {
   "cell_type": "markdown",
   "metadata": {},
   "source": [
    "Consider Testing on Multiple Models for Robustness - each model is similar "
   ]
  },
  {
   "cell_type": "code",
   "execution_count": null,
   "metadata": {},
   "outputs": [],
   "source": [
    "# Robustness Test on Random Forest Model\n",
    "random_forest={}\n",
    "\n",
    "test_X = lagged_df_samples[selected_features]\n",
    "test_y = lagged_df_samples['total_deposits']\n",
    "\n",
    "for category, info in best_models_random_forest.items():\n",
    "    model = info['model']\n",
    "    print(info)\n",
    "    \n",
    "    # Filter test_X and test_y by category\n",
    "    test_X = lagged_df_samples[lagged_df_samples['category'] == category][selected_features]\n",
    "    test_y = lagged_df_samples[lagged_df_samples['category'] == category]['total_deposits']\n",
    "    \n",
    "    # Make predictions only if there is data for the category\n",
    "    if not test_X.empty:\n",
    "        predictions = model.predict(test_X)\n",
    "    \n",
    "        rmse = mean_squared_error(test_y, predictions, squared=False)\n",
    "        r2 = r2_score(test_y, predictions)       \n",
    "\n",
    "\n",
    "    random_forest[category] = { 'rmse': rmse, 'r2': r2}\n",
    "\n",
    "random_forest\n"
   ]
  },
  {
   "cell_type": "code",
   "execution_count": null,
   "metadata": {},
   "outputs": [],
   "source": [
    "categories = lagged_df['category'].unique()\n",
    "\n",
    "rmse_values = {\n",
    "    #'Lasso': [lasso[cat]['rmse'] for cat in categories],\n",
    "  #  'Ridge': [ridge[cat]['rmse'] for cat in categories],\n",
    "    'Random Forest': [random_forest[cat]['rmse'] for cat in categories],\n",
    "  #  'Gradient Boosting': [gradient_boosting[cat]['rmse'] for cat in categories]\n",
    "}\n",
    "\n",
    "# Create bar chart\n",
    "fig, ax = plt.subplots(figsize=(12, 6))\n",
    "bar_width = 0.2\n",
    "index = range(len(categories))\n",
    "\n",
    "for i, (method, rmse) in enumerate(rmse_values.items()):\n",
    "    ax.bar([x + i * bar_width for x in index], rmse, bar_width, label=method)\n",
    "\n",
    "ax.set_xlabel('Category')\n",
    "ax.set_ylabel('Root Mean Squared Error (RMSE)')\n",
    "ax.set_title('RMSE by Regression Method and Category on Sample Data for Robustness Check')\n",
    "ax.set_xticks([x + bar_width for x in index])\n",
    "ax.set_xticklabels(categories)\n",
    "ax.legend()\n",
    "\n",
    "plt.tight_layout()\n",
    "plt.show()"
   ]
  },
  {
   "cell_type": "code",
   "execution_count": null,
   "metadata": {},
   "outputs": [],
   "source": [
    "best_models_random_forest"
   ]
  },
  {
   "cell_type": "markdown",
   "metadata": {},
   "source": [
    "Conclusion: Written once we figure out results. "
   ]
  },
  {
   "cell_type": "markdown",
   "metadata": {},
   "source": [
    "Sensitivity Analysis - Done on Random Forest Regression \n",
    "\n",
    "Parameters adjusted will be n_estimators and/or max_depth"
   ]
  },
  {
   "cell_type": "code",
   "execution_count": null,
   "metadata": {},
   "outputs": [],
   "source": [
    "X = df[selected_features]\n",
    "y = df['total_deposits'] \n",
    "\n",
    "X_train, X_test, y_train, y_test = train_test_split(X, y, test_size=0.2, random_state=42)"
   ]
  },
  {
   "cell_type": "code",
   "execution_count": null,
   "metadata": {},
   "outputs": [],
   "source": [
    "n_estimators_range = [10, 50, 100, 150, 200]\n",
    "max_depth_range = [None, 10, 20, 30]\n",
    "\n",
    "results = []\n",
    "\n",
    "for n_estimators in n_estimators_range:\n",
    "\n",
    "    model = RandomForestRegressor(n_estimators=n_estimators, max_depth=10, random_state=42)  # Keeping max_depth constant\n",
    "    model.fit(X_train, y_train)\n",
    "    predictions = model.predict(X_test)\n",
    "    rmse = mean_squared_error(y_test, predictions, squared=False)\n",
    "    r2 = r2_score(y_test, predictions)\n",
    "    results.append({'n_estimators': n_estimators, 'max_depth': 10, 'RMSE': rmse, 'R2': r2})\n",
    "\n",
    "# Repeat for max_depth variation\n",
    "for max_depth in max_depth_range:\n",
    "    model = RandomForestRegressor(n_estimators=100, max_depth=max_depth, random_state=42)  # Keeping n_estimators constant\n",
    "    model.fit(X_train, y_train)\n",
    "    predictions = model.predict(X_test)\n",
    "    rmse = mean_squared_error(y_test, predictions, squared=False)\n",
    "    r2 = r2_score(y_test, predictions)\n",
    "    results.append({'n_estimators': 100, 'max_depth': max_depth, 'RMSE': rmse, 'R2': r2})\n",
    "\n",
    "results_df = pd.DataFrame(results)\n"
   ]
  },
  {
   "cell_type": "code",
   "execution_count": null,
   "metadata": {},
   "outputs": [],
   "source": [
    "sns.lineplot(data=results_df, x='n_estimators', y='RMSE', marker='o', label='RMSE vs. n_estimators')\n",
    "plt.title(\"Change in RMSE based on Adjustments to n_estimators\")\n",
    "plt.legend()\n",
    "plt.show()"
   ]
  },
  {
   "cell_type": "markdown",
   "metadata": {},
   "source": [
    "More trees (n_estimators) beneficial up to ~100 where no longer benefical, with little to no improvement. "
   ]
  },
  {
   "cell_type": "code",
   "execution_count": null,
   "metadata": {},
   "outputs": [],
   "source": [
    "sns.lineplot(data=results_df, x='max_depth', y='RMSE', marker='o', label='RMSE vs. max_depth')\n",
    "plt.title(\"Change in RMSE based on Adjustments to max_depth\")\n",
    "plt.legend()\n",
    "plt.show()"
   ]
  },
  {
   "cell_type": "markdown",
   "metadata": {},
   "source": [
    "No longer sensitive to changes once max_depth > 20"
   ]
  },
  {
   "cell_type": "code",
   "execution_count": null,
   "metadata": {},
   "outputs": [],
   "source": []
  }
 ],
 "metadata": {
  "kernelspec": {
   "display_name": "env",
   "language": "python",
   "name": "python3"
  },
  "language_info": {
   "codemirror_mode": {
    "name": "ipython",
    "version": 3
   },
   "file_extension": ".py",
   "mimetype": "text/x-python",
   "name": "python",
   "nbconvert_exporter": "python",
   "pygments_lexer": "ipython3",
   "version": "3.12.2"
  }
 },
 "nbformat": 4,
 "nbformat_minor": 2
}
