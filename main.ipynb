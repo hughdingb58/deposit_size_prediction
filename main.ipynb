{
 "cells": [
  {
   "cell_type": "markdown",
   "id": "86953581-c4fd-491a-8535-fa063b744927",
   "metadata": {},
   "source": [
    "# Table of Contents\n",
    "- [Data gathering and preparation](#prep-start)\n",
    "    - [FRED data](#prep-fred)\n",
    "    - [FDIC data](#prep-fdic)\n",
    "- [Data exploration](#explo-start)\n",
    "    - [FRED data exploration](#explo-fred)\n",
    "    - [FDIC data exploration](#explo-fdic)\n",
    "- [Unsupervised modelling exploration](#unsupervised)\n",
    "- [Supervised modelling and analysis](#supervised)\n",
    "    - [Results and interpretation](#supervised-results)"
   ]
  },
  {
   "cell_type": "code",
   "execution_count": 1,
   "id": "567203f8-7cc3-4a45-8a34-93700524adcc",
   "metadata": {},
   "outputs": [],
   "source": [
    "import matplotlib.pyplot as plt\n",
    "import numpy as np\n",
    "import pandas as pd\n",
    "import seaborn as sns\n",
    "from sklearn.linear_model import LogisticRegression\n",
    "from sklearn.metrics import ConfusionMatrixDisplay, accuracy_score, confusion_matrix\n",
    "from sklearn.model_selection import GridSearchCV, train_test_split\n",
    "from sklearn.neural_network import MLPClassifier\n",
    "from sklearn.tree import DecisionTreeClassifier"
   ]
  },
  {
   "cell_type": "markdown",
   "id": "fb8006c7-9c51-4523-b434-dd0fd4764ff4",
   "metadata": {},
   "source": [
    "In banking, forecasting deposit movements helps to manage cash flows and inform lending and investing decisions. Our goal is specifically to forecast bank deposit size using key macroeconomic indicators and bank-level data.\n",
    "\n",
    "[Github repository](https://github.com/hughdingb58/deposit_size_prediction)"
   ]
  },
  {
   "cell_type": "markdown",
   "id": "7f65c922-b09b-4371-a4c2-b18b80e0d2e3",
   "metadata": {},
   "source": [
    "<a id=\"prep-start\"></a>\n",
    "# Data gathering and preparation"
   ]
  },
  {
   "cell_type": "markdown",
   "id": "3b14eb93-943e-47eb-9965-202c70f45588",
   "metadata": {},
   "source": [
    "<a id=\"prep-fred\"></a>\n",
    "## FRED data"
   ]
  },
  {
   "cell_type": "code",
   "execution_count": null,
   "id": "1e07cec0-aaa3-48dd-9052-0c7216a8807f",
   "metadata": {},
   "outputs": [],
   "source": []
  },
  {
   "cell_type": "markdown",
   "id": "2839c65d-8718-4227-b2bd-7ceca4953136",
   "metadata": {},
   "source": [
    "<a id=\"prep-fdic\"></a>\n",
    "## FDIC data"
   ]
  },
  {
   "cell_type": "code",
   "execution_count": null,
   "id": "1fa3803b-2315-43bc-97a3-4181dd379227",
   "metadata": {},
   "outputs": [],
   "source": []
  },
  {
   "cell_type": "markdown",
   "id": "6397c26c-04c8-44bf-be4f-c3a4e6d20465",
   "metadata": {},
   "source": [
    "<a id=\"explo-start\"></a>\n",
    "# Data exploration"
   ]
  },
  {
   "cell_type": "markdown",
   "id": "e24c5b27-ef99-4e4b-8a1a-bc30e388805f",
   "metadata": {},
   "source": [
    "<a id=\"explo-fred\"></a>\n",
    "## FRED data exploration"
   ]
  },
  {
   "cell_type": "code",
   "execution_count": null,
   "id": "c0c83a54-1d1c-46db-bf14-373d5b8c726f",
   "metadata": {},
   "outputs": [],
   "source": []
  },
  {
   "cell_type": "markdown",
   "id": "08a8ecc0-84d9-45a9-8b5d-dde69d2a4bfb",
   "metadata": {},
   "source": [
    "<a id=\"explo-fdic\"></a>\n",
    "## FDIC data exploration"
   ]
  },
  {
   "cell_type": "code",
   "execution_count": null,
   "id": "bf22fc84-50e9-4dc6-987a-998fad25377d",
   "metadata": {},
   "outputs": [],
   "source": []
  },
  {
   "cell_type": "markdown",
   "id": "369e0ee2-56e5-41cb-b70b-7cd37120cefb",
   "metadata": {},
   "source": [
    "<a id=\"unsupervised\"></a>\n",
    "# Unsupervised modelling exploration"
   ]
  },
  {
   "cell_type": "code",
   "execution_count": null,
   "id": "ad36f58c-50fd-4af4-a0c2-b85292274b3b",
   "metadata": {},
   "outputs": [],
   "source": []
  },
  {
   "cell_type": "markdown",
   "id": "4b6f8b26-89da-4315-a37d-b62d91130769",
   "metadata": {},
   "source": [
    "<a id=\"supervised\"></a>\n",
    "# Supervised modelling and analysis"
   ]
  },
  {
   "cell_type": "code",
   "execution_count": null,
   "id": "4de30ab8-a5d0-4170-96c9-5a8c11762e87",
   "metadata": {},
   "outputs": [],
   "source": []
  },
  {
   "cell_type": "markdown",
   "id": "2b9387a5-8aaa-4c18-b835-79dda6dc7e76",
   "metadata": {},
   "source": [
    "<a id=\"supervised-results\"></a>\n",
    "## Results"
   ]
  },
  {
   "cell_type": "code",
   "execution_count": null,
   "id": "40c989e2-f840-4912-9c75-6e1f78363680",
   "metadata": {},
   "outputs": [],
   "source": []
  }
 ],
 "metadata": {
  "kernelspec": {
   "display_name": "Python 3 (ipykernel)",
   "language": "python",
   "name": "python3"
  },
  "language_info": {
   "codemirror_mode": {
    "name": "ipython",
    "version": 3
   },
   "file_extension": ".py",
   "mimetype": "text/x-python",
   "name": "python",
   "nbconvert_exporter": "python",
   "pygments_lexer": "ipython3",
   "version": "3.11.3"
  }
 },
 "nbformat": 4,
 "nbformat_minor": 5
}
